{
 "cells": [
  {
   "cell_type": "markdown",
   "id": "402beccd",
   "metadata": {},
   "source": [
    "---\n",
    "title: Python - Mastering the Basics\n",
    "# subtitle: \n",
    "license: CC-BY-4.0\n",
    "github: https://github.com/Murphy465/data_visualization_myst\n",
    "subject: Tutorial\n",
    "authors:\n",
    "  - name: Sarah Anne Murphy\n",
    "    orcid: 0000-0002-7787-6890\n",
    "    affiliations:\n",
    "      - The Ohio State University Libraries\n",
    "date: 2025-04-2829\n",
    "kernelspec:\n",
    "  name: python3\n",
    "  display_name: 'Python 3'\n",
    "\n",
    "---"
   ]
  },
  {
   "cell_type": "markdown",
   "id": "077e6d2a",
   "metadata": {},
   "source": [
    "## Data skills | concepts\n",
    "- skill 1\n",
    "- skill 2\n",
    "\n",
    "## Learning objectives\n",
    "1. Identify search parameters and understand how they are inserted into a url.\n",
    "2. Navigate document nodes, element noes, attribute nodes, and text nodes in a Document Object Model (DOM).\n",
    "\n",
    "This tutorial assumes you already have a basic understanding of Python, including how to iterate through lists and dictionaries to extract data using a for loop. To learn basic Python concepts see ....\n"
   ]
  },
  {
   "cell_type": "markdown",
   "id": "bfeeb3db",
   "metadata": {},
   "source": [
    "## Getting started\n",
    "### Setup python\n",
    "\n",
    "A simple way to quickly download and set up Python and several Python libraries on your computer is to install [Anaconda](https://www.anaconda.com/download) on your personal device. Anaconda is a distribution of the Python programming language that serves as a package management system, allowing you to install, run, and update packages and their dependencies effortlessly. Anaconda automatically installs over 250 packages which are essential for analysis and data visualization, including pandas, numpy, matplotlib, and more. Additionally, Anaconda enables you to manage packages without needing to use command-line prompts, making it user-friendly and convenient.\n",
    "\n",
    "### Setup IDE\n",
    "\n",
    "Integrated Development Environments (IDEs) bundle code editors, debuggers, compilers, terminals, plugins and more into one software application to streamline the coding process. [Spyder](https://docs.spyder-ide.org/current/index.html), an IDE designed by and for scientists, engineers, and data analysts is installed with the Anaconda package. [Visual Studio Code](https://youtu.be/1kKTYsQdaPw?si=JbZb6Byg8iRTSS0u) is another quality IDE that offers quick feedback as you iteratively create your code. Either IDE will allow you to interactively write code, explore your data, and more."
   ]
  },
  {
   "cell_type": "markdown",
   "id": "3cee1b66",
   "metadata": {},
   "source": [
    "# Absolute vs relative paths\n",
    "By default the directory (aka folder) from which you run your Python script is set as your current working directory (cwd). This is where Python looks for files to read and write. In VS Code, you can set your working directory using the Explorer icon in the top left of the Activity bar. Add or open a file for your project and Python will store your code and any data files created by your code in this space. In Spyder, you can set your working directory by clicking on the folder icon in the upper right of the Toolbar.\n",
    "\n",
    "If you want to store the files you are working with in the same folder as your Python script, you can use a relative path to point Python to a file.\n",
    "\n",
    "`relative_filepath_of_text = \"path.txt`\n",
    "\n",
    "This works because Python establishes the current working directory as the reference point for relative file paths. If you want to store files in a different folder from your Python script, use an absolute path.\n",
    "\n",
    "`absolute_filepath_of_text = \"C:/path/to/your/directory/file.txt\"`"
   ]
  },
  {
   "cell_type": "markdown",
   "id": "913c4fcf",
   "metadata": {},
   "source": [
    "# Read or write files\n",
    "To read a text file, you must open it first in Python. Python will open your file and return it as a file object.\n",
    "\n",
    "**Syntax:**  `open(file, mode='r', buffering=-1, encoding=None, errors=None, newline=None, closefd=True, opener=None)`\n",
    "\n",
    "- file is the path name, absolute or relative to the current working directory\n",
    "- mode is an optional string that specifies the mode in which the file is opened. The default is 'r', or open for reading in text mode. The modes are:\n",
    "\n",
    "| **Character** | **Meaning**                                                                                   |\n",
    "|:-------------:|:---------------------------------------------------------------------------------------------------:|\n",
    "| `'r'`         | open for reading (default)                                                                               |\n",
    "| `'w'`         | open for writing, truncating the file first  \n",
    "| `'x'`         | open for exclusive creation, failing if the file already exists \n",
    "| `'a'`         | open for writing, appending to the end of file if it exists     |\n",
    "| `'b'`      | binary mode          |\n",
    "| `'t'`          | text mode (default) |\n",
    "| `'+'`         | open for updating (reading and writing |\n",
    "\n",
    "- encoding is the name of the encoding used to decode or encode the file. This should only be used in text mode. \n",
    "  - utf-8 (most common)\n",
    "  - utf-16\n",
    "  - utf-32\n",
    "\n",
    "```{code-cell} python\n",
    ":key: value\n",
    "\n",
    "open('Carmen_Ohio.txt', mode='r', encoding='utf-8')\n",
    "```  \n",
    "\n",
    "  "
   ]
  },
  {
   "cell_type": "markdown",
   "id": "35100bdf",
   "metadata": {},
   "source": [
    "## .read()\n",
    "To read the file object as text, use the `.read()` method \n",
    "\n",
    "```{code-cell} python\n",
    ":key: value\n",
    "\n",
    "open('carmen_ohio.txt', mode='r', encoding='utf-8').read()\n",
    "```"
   ]
  },
  {
   "cell_type": "markdown",
   "id": "9f231642",
   "metadata": {},
   "source": [
    "## .write()\n",
    "If you do not specify mode, Python will default to read text files mode='r'. To write text files, set the mode to `mode='w'`. **Note** We rename our file first to avoid overwriting the original text.\n",
    "\n",
    "```{code-cell} python\n",
    ":key: value\n",
    "\n",
    "open('carmen_ohio_revised.txt', mode='w', encoding='utf-8')\n",
    "```\n",
    "\n",
    "Again, this creates an object. To add text to a file, use the `.write()` method.\n",
    "\n",
    "```{code-cell} python\n",
    ":key: value\n",
    ":tags: [remove-output]\n",
    "\n",
    "open('carmen_ohio_revised.txt', mode='w', encoding='utf-8').write(\"Let's firm thy friendship again!!!\")\n",
    "```\n",
    "\n",
    "Now our file reads:\n",
    "```{code-cell} python\n",
    ":key: value\n",
    "\n",
    "open('carmen_ohio_revised.txt', mode='r', encoding='utf-8').read()\n",
    "```\n"
   ]
  },
  {
   "cell_type": "markdown",
   "id": "1184cfa5",
   "metadata": {},
   "source": []
  }
 ],
 "metadata": {
  "kernelspec": {
   "display_name": "base",
   "language": "python",
   "name": "python3"
  },
  "language_info": {
   "codemirror_mode": {
    "name": "ipython",
    "version": 3
   },
   "file_extension": ".py",
   "mimetype": "text/x-python",
   "name": "python",
   "nbconvert_exporter": "python",
   "pygments_lexer": "ipython3",
   "version": "3.12.7"
  }
 },
 "nbformat": 4,
 "nbformat_minor": 5
}
