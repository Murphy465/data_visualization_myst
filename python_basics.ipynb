{
 "cells": [
  {
   "cell_type": "markdown",
   "id": "402beccd",
   "metadata": {},
   "source": [
    "---\n",
    "title: Python Basics\n",
    "# subtitle: \n",
    "license: CC-BY-4.0\n",
    "github: https://github.com/Murphy465/data_visualization_myst\n",
    "subject: Tutorial\n",
    "authors:\n",
    "  - name: Sarah Anne Murphy\n",
    "    orcid: 0000-0002-7787-6890\n",
    "    affiliations:\n",
    "      - The Ohio State University Libraries\n",
    "date: 2025-04-2829\n",
    "---"
   ]
  },
  {
   "cell_type": "markdown",
   "id": "077e6d2a",
   "metadata": {},
   "source": [
    "# Setup\n",
    "\n",
    "Refer to other quality instructions!!!!"
   ]
  }
 ],
 "metadata": {
  "kernelspec": {
   "display_name": "base",
   "language": "python",
   "name": "python3"
  },
  "language_info": {
   "codemirror_mode": {
    "name": "ipython",
    "version": 3
   },
   "file_extension": ".py",
   "mimetype": "text/x-python",
   "name": "python",
   "nbconvert_exporter": "python",
   "pygments_lexer": "ipython3",
   "version": "3.12.7"
  }
 },
 "nbformat": 4,
 "nbformat_minor": 5
}
